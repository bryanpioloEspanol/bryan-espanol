{
  "nbformat": 4,
  "nbformat_minor": 0,
  "metadata": {
    "colab": {
      "name": "Python Exercise 2.ipynb",
      "provenance": [],
      "authorship_tag": "ABX9TyM5BvHhQVhdy7AyCDgu3kEI",
      "include_colab_link": true
    },
    "kernelspec": {
      "name": "python3",
      "display_name": "Python 3"
    },
    "language_info": {
      "name": "python"
    }
  },
  "cells": [
    {
      "cell_type": "markdown",
      "metadata": {
        "id": "view-in-github",
        "colab_type": "text"
      },
      "source": [
        "<a href=\"https://colab.research.google.com/github/bryanpioloEspanol/bryan-espanol/blob/main/Python_Exercise_2.ipynb\" target=\"_parent\"><img src=\"https://colab.research.google.com/assets/colab-badge.svg\" alt=\"Open In Colab\"/></a>"
      ]
    },
    {
      "cell_type": "markdown",
      "metadata": {
        "id": "kQAQnISCjLJX"
      },
      "source": [
        "#Vector Space and its Operations"
      ]
    },
    {
      "cell_type": "code",
      "metadata": {
        "colab": {
          "base_uri": "https://localhost:8080/"
        },
        "id": "XaCoCLaVi6nt",
        "outputId": "a1309400-5784-432a-eafa-b65701991603"
      },
      "source": [
        "import numpy as np \n",
        "a = np.array([4,3])\n",
        "b = np.array([2,-5])\n",
        "print('Vector a is', a)\n",
        "print(\"Vector b is\" , b)"
      ],
      "execution_count": 1,
      "outputs": [
        {
          "output_type": "stream",
          "name": "stdout",
          "text": [
            "Vector a is [4 3]\n",
            "Vector b is [ 2 -5]\n"
          ]
        }
      ]
    },
    {
      "cell_type": "code",
      "metadata": {
        "colab": {
          "base_uri": "https://localhost:8080/"
        },
        "id": "3zWrXUK-jEea",
        "outputId": "f5e2227c-404f-4df4-8a09-51a4bbf132ba"
      },
      "source": [
        "ball1 = np.array([1,2,3])\n",
        "ball2 = np.array([0,1,-1])\n",
        "\n",
        "pool = np.array([ball1,ball2])\n",
        "print(pool.shape)\n",
        "print(pool.size)\n",
        "print(pool.ndim)"
      ],
      "execution_count": 2,
      "outputs": [
        {
          "output_type": "stream",
          "name": "stdout",
          "text": [
            "(2, 3)\n",
            "6\n",
            "2\n"
          ]
        }
      ]
    },
    {
      "cell_type": "code",
      "metadata": {
        "colab": {
          "base_uri": "https://localhost:8080/"
        },
        "id": "wnf505aQjlaY",
        "outputId": "64e8fbcd-9b6e-441d-e224-22dbd51e1b8c"
      },
      "source": [
        "R = a+b\n",
        "print(R)"
      ],
      "execution_count": 3,
      "outputs": [
        {
          "output_type": "stream",
          "name": "stdout",
          "text": [
            "[ 6 -2]\n"
          ]
        }
      ]
    },
    {
      "cell_type": "code",
      "metadata": {
        "colab": {
          "base_uri": "https://localhost:8080/"
        },
        "id": "Zwv8Df1AjqVS",
        "outputId": "701c0e6c-608c-48ee-a2f7-8a6f1ebfb301"
      },
      "source": [
        "R = np.add(a,b)\n",
        "R"
      ],
      "execution_count": 4,
      "outputs": [
        {
          "output_type": "execute_result",
          "data": {
            "text/plain": [
              "array([ 6, -2])"
            ]
          },
          "metadata": {},
          "execution_count": 4
        }
      ]
    },
    {
      "cell_type": "markdown",
      "metadata": {
        "id": "XipwnZRIjsFK"
      },
      "source": [
        "##Vector subtraction"
      ]
    },
    {
      "cell_type": "code",
      "metadata": {
        "colab": {
          "base_uri": "https://localhost:8080/"
        },
        "id": "-79BzOFBj11Z",
        "outputId": "5cfd910e-29e4-4034-faf8-860e5dc2bfb9"
      },
      "source": [
        "R = np.subtract(a,b)\n",
        "R"
      ],
      "execution_count": 5,
      "outputs": [
        {
          "output_type": "execute_result",
          "data": {
            "text/plain": [
              "array([2, 8])"
            ]
          },
          "metadata": {},
          "execution_count": 5
        }
      ]
    },
    {
      "cell_type": "markdown",
      "metadata": {
        "id": "zz7MQ0rhj77W"
      },
      "source": [
        "#Vector Scaling"
      ]
    },
    {
      "cell_type": "code",
      "metadata": {
        "colab": {
          "base_uri": "https://localhost:8080/"
        },
        "id": "QvXYsArukCpN",
        "outputId": "273995be-7ad9-4809-a6fe-a1412b4d212a"
      },
      "source": [
        "a = np.array([1,5,8,9])\n",
        "S = 5*a\n",
        "print(S)"
      ],
      "execution_count": 6,
      "outputs": [
        {
          "output_type": "stream",
          "name": "stdout",
          "text": [
            "[ 5 25 40 45]\n"
          ]
        }
      ]
    },
    {
      "cell_type": "code",
      "metadata": {
        "colab": {
          "base_uri": "https://localhost:8080/"
        },
        "id": "Pkkctcb4kO82",
        "outputId": "8cfb2156-21be-4f5a-e062-c9e2e924426a"
      },
      "source": [
        "S = np.multiply(5,a)\n",
        "print(S)"
      ],
      "execution_count": 7,
      "outputs": [
        {
          "output_type": "stream",
          "name": "stdout",
          "text": [
            "[ 5 25 40 45]\n"
          ]
        }
      ]
    },
    {
      "cell_type": "markdown",
      "metadata": {
        "id": "09e4S0wDkRVK"
      },
      "source": [
        "##Vector Cross Product"
      ]
    },
    {
      "cell_type": "code",
      "metadata": {
        "colab": {
          "base_uri": "https://localhost:8080/"
        },
        "id": "Ge0ZQAf2kWCX",
        "outputId": "66cedaa3-73c2-40ce-cba8-ace4b223a587"
      },
      "source": [
        "import numpy as np\n",
        "#initiallize arrays\n",
        "A = np.array([2,7])\n",
        "B = np.array([1,7])\n",
        "\n",
        "S = np.cross(A,B)\n",
        "print(S)"
      ],
      "execution_count": 9,
      "outputs": [
        {
          "output_type": "stream",
          "name": "stdout",
          "text": [
            "7\n"
          ]
        }
      ]
    },
    {
      "cell_type": "code",
      "metadata": {
        "colab": {
          "base_uri": "https://localhost:8080/"
        },
        "id": "ywnPWdQVkZlB",
        "outputId": "01ff989d-72dd-4104-ac77-a5d918be98c8"
      },
      "source": [
        "S = np.dot(A,B)\n",
        "print(S)"
      ],
      "execution_count": 10,
      "outputs": [
        {
          "output_type": "stream",
          "name": "stdout",
          "text": [
            "51\n"
          ]
        }
      ]
    }
  ]
}