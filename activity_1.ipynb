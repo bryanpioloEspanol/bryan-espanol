{
  "nbformat": 4,
  "nbformat_minor": 0,
  "metadata": {
    "colab": {
      "name": "activity 1.ipynb",
      "provenance": [],
      "collapsed_sections": [],
      "authorship_tag": "ABX9TyOjAcauDc1CsJTq4+J8S2/e",
      "include_colab_link": true
    },
    "kernelspec": {
      "name": "python3",
      "display_name": "Python 3"
    },
    "language_info": {
      "name": "python"
    }
  },
  "cells": [
    {
      "cell_type": "markdown",
      "metadata": {
        "id": "view-in-github",
        "colab_type": "text"
      },
      "source": [
        "<a href=\"https://colab.research.google.com/github/bryanpioloEspanol/bryan-espanol/blob/main/activity_1.ipynb\" target=\"_parent\"><img src=\"https://colab.research.google.com/assets/colab-badge.svg\" alt=\"Open In Colab\"/></a>"
      ]
    },
    {
      "cell_type": "code",
      "metadata": {
        "colab": {
          "base_uri": "https://localhost:8080/"
        },
        "id": "nsM8kCXas27x",
        "outputId": "1ae6f60e-7770-4cf1-e7fd-3359794d2378"
      },
      "source": [
        "import numpy as np\n",
        "#Create a 2x4 array \n",
        "a = np.array([[-5,0],[4,1]])\n",
        "b = np.array([[6,-3],[2,3]])\n",
        "print(a)\n",
        "print(b)"
      ],
      "execution_count": 1,
      "outputs": [
        {
          "output_type": "stream",
          "name": "stdout",
          "text": [
            "[[-5  0]\n",
            " [ 4  1]]\n",
            "[[ 6 -3]\n",
            " [ 2  3]]\n"
          ]
        }
      ]
    },
    {
      "cell_type": "code",
      "metadata": {
        "id": "376hDpHe0kUC"
      },
      "source": [
        ""
      ],
      "execution_count": null,
      "outputs": []
    },
    {
      "cell_type": "code",
      "metadata": {
        "colab": {
          "base_uri": "https://localhost:8080/"
        },
        "id": "M9UI0mGV0km-",
        "outputId": "62853262-d862-4d6d-f027-4aa72138114b"
      },
      "source": [
        " #Sum of a+b \n",
        "a = np.array([[-5,0],[4,1]])\n",
        "b = np.array([[6,-3],[2,3]])\n",
        "print(a+b)"
      ],
      "execution_count": 3,
      "outputs": [
        {
          "output_type": "stream",
          "name": "stdout",
          "text": [
            "[[ 1 -3]\n",
            " [ 6  4]]\n"
          ]
        }
      ]
    }
  ]
}